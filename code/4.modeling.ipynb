{
 "cells": [
  {
   "cell_type": "code",
   "execution_count": 1,
   "metadata": {},
   "outputs": [],
   "source": [
    "import pandas as pd\n",
    "from sklearn.model_selection import train_test_split\n",
    "from sklearn.neural_network import MLPRegressor\n",
    "from sklearn.linear_model import LinearRegression\n",
    "from sklearn.neighbors import KNeighborsRegressor\n",
    "from sklearn.ensemble import RandomForestRegressor\n",
    "from sklearn.linear_model import Ridge\n",
    "from sklearn.linear_model import Lasso\n",
    "from sklearn import preprocessing\n",
    "from sklearn.svm import SVR\n",
    "import numpy as np\n",
    "from sklearn import metrics\n",
    "import matplotlib.pyplot as plt\n",
    "import joblib"
   ]
  },
  {
   "cell_type": "code",
   "execution_count": 2,
   "metadata": {},
   "outputs": [
    {
     "data": {
      "text/html": [
       "<div>\n",
       "<style scoped>\n",
       "    .dataframe tbody tr th:only-of-type {\n",
       "        vertical-align: middle;\n",
       "    }\n",
       "\n",
       "    .dataframe tbody tr th {\n",
       "        vertical-align: top;\n",
       "    }\n",
       "\n",
       "    .dataframe thead th {\n",
       "        text-align: right;\n",
       "    }\n",
       "</style>\n",
       "<table border=\"1\" class=\"dataframe\">\n",
       "  <thead>\n",
       "    <tr style=\"text-align: right;\">\n",
       "      <th></th>\n",
       "      <th>YEAR_MONTH_DAY_HOUR</th>\n",
       "      <th>PULocationID</th>\n",
       "      <th>temperature</th>\n",
       "      <th>dew_point</th>\n",
       "      <th>wind_direction</th>\n",
       "      <th>wind_speed</th>\n",
       "      <th>hour_of_day</th>\n",
       "      <th>day_of_week</th>\n",
       "      <th>month</th>\n",
       "      <th>pick_ups</th>\n",
       "      <th>mean_amount</th>\n",
       "      <th>mean_income_rate</th>\n",
       "    </tr>\n",
       "  </thead>\n",
       "  <tbody>\n",
       "    <tr>\n",
       "      <th>0</th>\n",
       "      <td>2021010100</td>\n",
       "      <td>4</td>\n",
       "      <td>4.4</td>\n",
       "      <td>-3.3</td>\n",
       "      <td>320.0</td>\n",
       "      <td>6.7</td>\n",
       "      <td>0</td>\n",
       "      <td>4</td>\n",
       "      <td>1</td>\n",
       "      <td>3.0</td>\n",
       "      <td>21.466667</td>\n",
       "      <td>1.320380</td>\n",
       "    </tr>\n",
       "    <tr>\n",
       "      <th>1</th>\n",
       "      <td>2021010100</td>\n",
       "      <td>7</td>\n",
       "      <td>4.4</td>\n",
       "      <td>-3.3</td>\n",
       "      <td>320.0</td>\n",
       "      <td>6.7</td>\n",
       "      <td>0</td>\n",
       "      <td>4</td>\n",
       "      <td>1</td>\n",
       "      <td>1.0</td>\n",
       "      <td>24.500000</td>\n",
       "      <td>0.907407</td>\n",
       "    </tr>\n",
       "    <tr>\n",
       "      <th>2</th>\n",
       "      <td>2021010100</td>\n",
       "      <td>13</td>\n",
       "      <td>4.4</td>\n",
       "      <td>-3.3</td>\n",
       "      <td>320.0</td>\n",
       "      <td>6.7</td>\n",
       "      <td>0</td>\n",
       "      <td>4</td>\n",
       "      <td>1</td>\n",
       "      <td>2.0</td>\n",
       "      <td>26.050000</td>\n",
       "      <td>2.021795</td>\n",
       "    </tr>\n",
       "    <tr>\n",
       "      <th>3</th>\n",
       "      <td>2021010100</td>\n",
       "      <td>17</td>\n",
       "      <td>4.4</td>\n",
       "      <td>-3.3</td>\n",
       "      <td>320.0</td>\n",
       "      <td>6.7</td>\n",
       "      <td>0</td>\n",
       "      <td>4</td>\n",
       "      <td>1</td>\n",
       "      <td>2.0</td>\n",
       "      <td>16.150000</td>\n",
       "      <td>1.517568</td>\n",
       "    </tr>\n",
       "    <tr>\n",
       "      <th>4</th>\n",
       "      <td>2021010100</td>\n",
       "      <td>24</td>\n",
       "      <td>4.4</td>\n",
       "      <td>-3.3</td>\n",
       "      <td>320.0</td>\n",
       "      <td>6.7</td>\n",
       "      <td>0</td>\n",
       "      <td>4</td>\n",
       "      <td>1</td>\n",
       "      <td>6.0</td>\n",
       "      <td>18.523333</td>\n",
       "      <td>1.599196</td>\n",
       "    </tr>\n",
       "  </tbody>\n",
       "</table>\n",
       "</div>"
      ],
      "text/plain": [
       "  YEAR_MONTH_DAY_HOUR  PULocationID  temperature  dew_point  wind_direction  \\\n",
       "0          2021010100             4          4.4       -3.3           320.0   \n",
       "1          2021010100             7          4.4       -3.3           320.0   \n",
       "2          2021010100            13          4.4       -3.3           320.0   \n",
       "3          2021010100            17          4.4       -3.3           320.0   \n",
       "4          2021010100            24          4.4       -3.3           320.0   \n",
       "\n",
       "   wind_speed  hour_of_day  day_of_week  month  pick_ups  mean_amount  \\\n",
       "0         6.7            0            4      1       3.0    21.466667   \n",
       "1         6.7            0            4      1       1.0    24.500000   \n",
       "2         6.7            0            4      1       2.0    26.050000   \n",
       "3         6.7            0            4      1       2.0    16.150000   \n",
       "4         6.7            0            4      1       6.0    18.523333   \n",
       "\n",
       "   mean_income_rate  \n",
       "0          1.320380  \n",
       "1          0.907407  \n",
       "2          2.021795  \n",
       "3          1.517568  \n",
       "4          1.599196  "
      ]
     },
     "execution_count": 2,
     "metadata": {},
     "output_type": "execute_result"
    }
   ],
   "source": [
    "aggregation_data=pd.read_parquet('../data/processed_data/aggregation_data.parquet')\n",
    "aggregation_data=aggregation_data.reset_index()\n",
    "aggregation_data=aggregation_data.rename(columns={'TEMPERATURE': 'temperature','Dew_Point':'dew_point','Wind_Direction':'wind_direction',\n",
    "                  'Wind_Speed':'wind_speed','day_of_month':'month'})\n",
    "aggregation_data.head()"
   ]
  },
  {
   "cell_type": "code",
   "execution_count": 3,
   "metadata": {},
   "outputs": [
    {
     "data": {
      "text/html": [
       "<div>\n",
       "<style scoped>\n",
       "    .dataframe tbody tr th:only-of-type {\n",
       "        vertical-align: middle;\n",
       "    }\n",
       "\n",
       "    .dataframe tbody tr th {\n",
       "        vertical-align: top;\n",
       "    }\n",
       "\n",
       "    .dataframe thead th {\n",
       "        text-align: right;\n",
       "    }\n",
       "</style>\n",
       "<table border=\"1\" class=\"dataframe\">\n",
       "  <thead>\n",
       "    <tr style=\"text-align: right;\">\n",
       "      <th></th>\n",
       "      <th>pick_ups</th>\n",
       "      <th>mean_amount</th>\n",
       "      <th>mean_income_rate</th>\n",
       "    </tr>\n",
       "  </thead>\n",
       "  <tbody>\n",
       "    <tr>\n",
       "      <th>count</th>\n",
       "      <td>941309.000000</td>\n",
       "      <td>941309.000000</td>\n",
       "      <td>941309.000000</td>\n",
       "    </tr>\n",
       "    <tr>\n",
       "      <th>mean</th>\n",
       "      <td>30.616409</td>\n",
       "      <td>18.671913</td>\n",
       "      <td>1.403505</td>\n",
       "    </tr>\n",
       "    <tr>\n",
       "      <th>std</th>\n",
       "      <td>47.357600</td>\n",
       "      <td>4.970434</td>\n",
       "      <td>0.283075</td>\n",
       "    </tr>\n",
       "    <tr>\n",
       "      <th>min</th>\n",
       "      <td>1.000000</td>\n",
       "      <td>0.300000</td>\n",
       "      <td>0.352941</td>\n",
       "    </tr>\n",
       "    <tr>\n",
       "      <th>25%</th>\n",
       "      <td>2.000000</td>\n",
       "      <td>15.896667</td>\n",
       "      <td>1.221764</td>\n",
       "    </tr>\n",
       "    <tr>\n",
       "      <th>50%</th>\n",
       "      <td>8.000000</td>\n",
       "      <td>17.595647</td>\n",
       "      <td>1.395150</td>\n",
       "    </tr>\n",
       "    <tr>\n",
       "      <th>75%</th>\n",
       "      <td>42.000000</td>\n",
       "      <td>20.734444</td>\n",
       "      <td>1.580262</td>\n",
       "    </tr>\n",
       "    <tr>\n",
       "      <th>max</th>\n",
       "      <td>797.000000</td>\n",
       "      <td>38.430000</td>\n",
       "      <td>2.439917</td>\n",
       "    </tr>\n",
       "  </tbody>\n",
       "</table>\n",
       "</div>"
      ],
      "text/plain": [
       "            pick_ups    mean_amount  mean_income_rate\n",
       "count  941309.000000  941309.000000     941309.000000\n",
       "mean       30.616409      18.671913          1.403505\n",
       "std        47.357600       4.970434          0.283075\n",
       "min         1.000000       0.300000          0.352941\n",
       "25%         2.000000      15.896667          1.221764\n",
       "50%         8.000000      17.595647          1.395150\n",
       "75%        42.000000      20.734444          1.580262\n",
       "max       797.000000      38.430000          2.439917"
      ]
     },
     "execution_count": 3,
     "metadata": {},
     "output_type": "execute_result"
    }
   ],
   "source": [
    "aggregation_data[[\"pick_ups\",\"mean_amount\",\"mean_income_rate\"]].describe()"
   ]
  },
  {
   "cell_type": "code",
   "execution_count": 4,
   "metadata": {},
   "outputs": [],
   "source": [
    "X=aggregation_data[['PULocationID','temperature','dew_point','wind_speed','hour_of_day','day_of_week','month']]"
   ]
  },
  {
   "cell_type": "code",
   "execution_count": 5,
   "metadata": {},
   "outputs": [
    {
     "data": {
      "text/html": [
       "<div>\n",
       "<style scoped>\n",
       "    .dataframe tbody tr th:only-of-type {\n",
       "        vertical-align: middle;\n",
       "    }\n",
       "\n",
       "    .dataframe tbody tr th {\n",
       "        vertical-align: top;\n",
       "    }\n",
       "\n",
       "    .dataframe thead th {\n",
       "        text-align: right;\n",
       "    }\n",
       "</style>\n",
       "<table border=\"1\" class=\"dataframe\">\n",
       "  <thead>\n",
       "    <tr style=\"text-align: right;\">\n",
       "      <th></th>\n",
       "      <th>PULocationID</th>\n",
       "      <th>temperature</th>\n",
       "      <th>dew_point</th>\n",
       "      <th>wind_speed</th>\n",
       "      <th>hour_of_day</th>\n",
       "      <th>day_of_week</th>\n",
       "      <th>month</th>\n",
       "    </tr>\n",
       "  </thead>\n",
       "  <tbody>\n",
       "    <tr>\n",
       "      <th>0</th>\n",
       "      <td>4</td>\n",
       "      <td>4.4</td>\n",
       "      <td>-3.3</td>\n",
       "      <td>6.7</td>\n",
       "      <td>0</td>\n",
       "      <td>4</td>\n",
       "      <td>1</td>\n",
       "    </tr>\n",
       "    <tr>\n",
       "      <th>1</th>\n",
       "      <td>7</td>\n",
       "      <td>4.4</td>\n",
       "      <td>-3.3</td>\n",
       "      <td>6.7</td>\n",
       "      <td>0</td>\n",
       "      <td>4</td>\n",
       "      <td>1</td>\n",
       "    </tr>\n",
       "    <tr>\n",
       "      <th>2</th>\n",
       "      <td>13</td>\n",
       "      <td>4.4</td>\n",
       "      <td>-3.3</td>\n",
       "      <td>6.7</td>\n",
       "      <td>0</td>\n",
       "      <td>4</td>\n",
       "      <td>1</td>\n",
       "    </tr>\n",
       "    <tr>\n",
       "      <th>3</th>\n",
       "      <td>17</td>\n",
       "      <td>4.4</td>\n",
       "      <td>-3.3</td>\n",
       "      <td>6.7</td>\n",
       "      <td>0</td>\n",
       "      <td>4</td>\n",
       "      <td>1</td>\n",
       "    </tr>\n",
       "    <tr>\n",
       "      <th>4</th>\n",
       "      <td>24</td>\n",
       "      <td>4.4</td>\n",
       "      <td>-3.3</td>\n",
       "      <td>6.7</td>\n",
       "      <td>0</td>\n",
       "      <td>4</td>\n",
       "      <td>1</td>\n",
       "    </tr>\n",
       "  </tbody>\n",
       "</table>\n",
       "</div>"
      ],
      "text/plain": [
       "   PULocationID  temperature  dew_point  wind_speed  hour_of_day  day_of_week  \\\n",
       "0             4          4.4       -3.3         6.7            0            4   \n",
       "1             7          4.4       -3.3         6.7            0            4   \n",
       "2            13          4.4       -3.3         6.7            0            4   \n",
       "3            17          4.4       -3.3         6.7            0            4   \n",
       "4            24          4.4       -3.3         6.7            0            4   \n",
       "\n",
       "   month  \n",
       "0      1  \n",
       "1      1  \n",
       "2      1  \n",
       "3      1  \n",
       "4      1  "
      ]
     },
     "execution_count": 5,
     "metadata": {},
     "output_type": "execute_result"
    }
   ],
   "source": [
    "X.head()"
   ]
  },
  {
   "cell_type": "code",
   "execution_count": 6,
   "metadata": {},
   "outputs": [
    {
     "name": "stdout",
     "output_type": "stream",
     "text": [
      "(941309, 3)\n",
      "[[-0.74952858 -0.70886621  0.51467435]\n",
      " [-0.74952858 -0.70886621  0.51467435]\n",
      " [-0.74952858 -0.70886621  0.51467435]\n",
      " ...\n",
      " [-0.09210423 -0.35410896  0.51467435]\n",
      " [-0.09210423 -0.35410896  0.51467435]\n",
      " [-0.09210423 -0.35410896  0.51467435]]\n"
     ]
    }
   ],
   "source": [
    "min_max_scaler = preprocessing.StandardScaler()\n",
    "origin_data=np.array(aggregation_data[['temperature','dew_point','wind_speed']])\n",
    "print(origin_data.shape)\n",
    "scaled_data = min_max_scaler.fit_transform(origin_data)\n",
    "print(scaled_data)"
   ]
  },
  {
   "cell_type": "code",
   "execution_count": 7,
   "metadata": {},
   "outputs": [
    {
     "name": "stdout",
     "output_type": "stream",
     "text": [
      "(941309, 259)\n"
     ]
    }
   ],
   "source": [
    "PULocationID=np.array(aggregation_data['PULocationID'])\n",
    "PULocationID=PULocationID.reshape(len(PULocationID),-1)\n",
    "PULocationID=preprocessing.OneHotEncoder().fit_transform(PULocationID).toarray()\n",
    "print(np.shape(PULocationID))"
   ]
  },
  {
   "cell_type": "code",
   "execution_count": 8,
   "metadata": {},
   "outputs": [
    {
     "name": "stdout",
     "output_type": "stream",
     "text": [
      "(941309, 24)\n"
     ]
    }
   ],
   "source": [
    "hour_of_day=np.array(aggregation_data['hour_of_day'])\n",
    "hour_of_day=hour_of_day.reshape(len(hour_of_day),-1)\n",
    "hour_of_day=preprocessing.OneHotEncoder().fit_transform(hour_of_day).toarray()\n",
    "print(np.shape(hour_of_day))"
   ]
  },
  {
   "cell_type": "code",
   "execution_count": 9,
   "metadata": {},
   "outputs": [
    {
     "name": "stdout",
     "output_type": "stream",
     "text": [
      "(941309, 7)\n"
     ]
    }
   ],
   "source": [
    "day_of_week=np.array(aggregation_data['day_of_week'])\n",
    "day_of_week=day_of_week.reshape(len(day_of_week),-1)\n",
    "day_of_week=preprocessing.OneHotEncoder().fit_transform(day_of_week).toarray()\n",
    "print(np.shape(day_of_week))"
   ]
  },
  {
   "cell_type": "code",
   "execution_count": 10,
   "metadata": {},
   "outputs": [
    {
     "name": "stdout",
     "output_type": "stream",
     "text": [
      "(941309, 12)\n"
     ]
    }
   ],
   "source": [
    "month=np.array(aggregation_data['month'])\n",
    "month=month.reshape(len(month),-1)\n",
    "month=preprocessing.OneHotEncoder().fit_transform(month).toarray()\n",
    "print(np.shape(month))"
   ]
  },
  {
   "cell_type": "code",
   "execution_count": 16,
   "metadata": {},
   "outputs": [
    {
     "name": "stdout",
     "output_type": "stream",
     "text": [
      "(941309, 305)\n"
     ]
    }
   ],
   "source": [
    "X=np.concatenate((PULocationID,hour_of_day,day_of_week,month,scaled_data),axis=1)\n",
    "print(X.shape)"
   ]
  },
  {
   "cell_type": "code",
   "execution_count": 12,
   "metadata": {},
   "outputs": [],
   "source": [
    "y1=np.array(aggregation_data[['pick_ups']])\n",
    "y2=np.array(aggregation_data[['mean_amount']])\n",
    "y3=np.array(aggregation_data[['mean_income_rate']])"
   ]
  },
  {
   "cell_type": "code",
   "execution_count": 17,
   "metadata": {},
   "outputs": [],
   "source": [
    "X_train, X_test, y_train, y_test = train_test_split(X, y1, random_state=1,test_size=0.2)"
   ]
  },
  {
   "cell_type": "code",
   "execution_count": 32,
   "metadata": {},
   "outputs": [
    {
     "name": "stdout",
     "output_type": "stream",
     "text": [
      "Train Data X Shape (753047, 305), y Shape (753047, 1)\n",
      "Test Data X Shape (188262, 305), y Shape (188262, 1)\n"
     ]
    },
    {
     "name": "stderr",
     "output_type": "stream",
     "text": [
      "/home/lichuang/miniconda3/envs/mast/lib/python3.8/site-packages/sklearn/neural_network/_multilayer_perceptron.py:702: ConvergenceWarning: Stochastic Optimizer: Maximum iterations (200) reached and the optimization hasn't converged yet.\n",
      "  warnings.warn(\n"
     ]
    },
    {
     "name": "stdout",
     "output_type": "stream",
     "text": [
      "MSE: 207.6490537736287\n",
      "RMSE 14.410033094119829\n"
     ]
    },
    {
     "data": {
      "image/png": "[encoded data removed]",
      "text/plain": [
       "<Figure size 432x288 with 1 Axes>"
      ]
     },
     "metadata": {
      "needs_background": "light"
     },
     "output_type": "display_data"
    }
   ],
   "source": [
    "print(\"Train Data X Shape %s, y Shape %s\" % (X_train.shape, y_train.shape))\n",
    "print(\"Test Data X Shape %s, y Shape %s\" % (X_test.shape, y_test.shape))\n",
    "# model = LinearRegression()\n",
    "# model = KNeighborsRegressor()\n",
    "# model = SVR()\n",
    "model=MLPRegressor()\n",
    "model.fit(X_train, np.array(y_train).ravel())\n",
    "y_pred = model.predict(X_test)\n",
    "print(\"MSE:\", metrics.mean_squared_error(y_test, y_pred))\n",
    "print(\"RMSE\", np.sqrt(metrics.mean_squared_error(y_test, y_pred)))\n",
    "# scatter 画点\n",
    "plt.scatter(y_test, y_pred)\n",
    "# plot 画线\n",
    "plt.plot([y_test.min(), y_test.max()], [y_test.min(), y_test.max()], 'k--', lw=4)\n",
    "plt.xlabel(\"Measured\")\n",
    "plt.ylabel(\"Predicted\")\n",
    "plt.show()"
   ]
  },
  {
   "cell_type": "code",
   "execution_count": null,
   "metadata": {},
   "outputs": [],
   "source": [
    "joblib.dump(model, '../model/MLP_Y1.model')"
   ]
  },
  {
   "cell_type": "code",
   "execution_count": 19,
   "metadata": {},
   "outputs": [
    {
     "name": "stdout",
     "output_type": "stream",
     "text": [
      "MSE: 207.6490537736287\n",
      "RMSE 14.410033094119829\n",
      "MAE 8.084014002880771\n"
     ]
    },
    {
     "data": {
      "image/png": "[encoded data removed]",
      "text/plain": [
       "<Figure size 432x288 with 1 Axes>"
      ]
     },
     "metadata": {
      "needs_background": "light"
     },
     "output_type": "display_data"
    }
   ],
   "source": [
    "model = joblib.load( '../model/MLP_Y1.model')\n",
    "y_pred = model.predict(X_test)\n",
    "print(\"MSE:\", metrics.mean_squared_error(y_test, y_pred))\n",
    "print(\"RMSE\", np.sqrt(metrics.mean_squared_error(y_test, y_pred)))\n",
    "print(\"MAE\", metrics.mean_absolute_error (y_test, y_pred))\n",
    "# scatter 画点\n",
    "plt.scatter(y_test, y_pred)\n",
    "# plot 画线\n",
    "plt.plot([y_test.min(), y_test.max()], [y_test.min(), y_test.max()], 'k--', lw=4)\n",
    "plt.xlabel(\"Measured\")\n",
    "plt.ylabel(\"Predicted\")\n",
    "plt.show()"
   ]
  },
  {
   "cell_type": "code",
   "execution_count": 21,
   "metadata": {},
   "outputs": [
    {
     "name": "stdout",
     "output_type": "stream",
     "text": [
      "Train Data X Shape (753047, 305), y Shape (753047, 1)\n",
      "Test Data X Shape (188262, 305), y Shape (188262, 1)\n",
      "MSE: 909.5201768544434\n",
      "RMSE 30.158252218164822\n",
      "MAE 19.791631559342832\n"
     ]
    },
    {
     "data": {
      "image/png": "[encoded data removed]",
      "text/plain": [
       "<Figure size 432x288 with 1 Axes>"
      ]
     },
     "metadata": {
      "needs_background": "light"
     },
     "output_type": "display_data"
    },
    {
     "data": {
      "text/plain": [
       "['../model/LR_Y1.model']"
      ]
     },
     "execution_count": 21,
     "metadata": {},
     "output_type": "execute_result"
    }
   ],
   "source": [
    "print(\"Train Data X Shape %s, y Shape %s\" % (X_train.shape, y_train.shape))\n",
    "print(\"Test Data X Shape %s, y Shape %s\" % (X_test.shape, y_test.shape))\n",
    "model = LinearRegression()\n",
    "model.fit(X_train, np.array(y_train).ravel())\n",
    "y_pred = model.predict(X_test)\n",
    "print(\"MSE:\", metrics.mean_squared_error(y_test, y_pred))\n",
    "print(\"RMSE\", np.sqrt(metrics.mean_squared_error(y_test, y_pred)))\n",
    "print(\"MAE\", metrics.mean_absolute_error (y_test, y_pred))\n",
    "# scatter 画点\n",
    "plt.scatter(y_test, y_pred)\n",
    "# plot 画线\n",
    "plt.plot([y_test.min(), y_test.max()], [y_test.min(), y_test.max()], 'k--', lw=4)\n",
    "plt.xlabel(\"Measured\")\n",
    "plt.ylabel(\"Predicted\")\n",
    "plt.show()\n",
    "joblib.dump(model, '../model/LR_Y1.model')"
   ]
  },
  {
   "cell_type": "code",
   "execution_count": 19,
   "metadata": {},
   "outputs": [
    {
     "name": "stdout",
     "output_type": "stream",
     "text": [
      "(941309, 305)\n",
      "Train Data X Shape (753047, 305), y Shape (753047, 1)\n",
      "Test Data X Shape (188262, 305), y Shape (188262, 1)\n",
      "MSE: 0.05363520504877481\n",
      "RMSE 0.23159275690050155\n",
      "MAE 0.1626609195787966\n"
     ]
    },
    {
     "data": {
      "image/png": "[encoded data removed]",
      "text/plain": [
       "<Figure size 432x288 with 1 Axes>"
      ]
     },
     "metadata": {
      "needs_background": "light"
     },
     "output_type": "display_data"
    },
    {
     "data": {
      "text/plain": [
       "['../model/LR_Y3.model']"
      ]
     },
     "execution_count": 19,
     "metadata": {},
     "output_type": "execute_result"
    }
   ],
   "source": [
    "X=np.concatenate((PULocationID,hour_of_day,day_of_week,month,scaled_data),axis=1)\n",
    "print(X.shape)\n",
    "X_train, X_test, y_train, y_test = train_test_split(X, y3, random_state=1,test_size=0.2)\n",
    "print(\"Train Data X Shape %s, y Shape %s\" % (X_train.shape, y_train.shape))\n",
    "print(\"Test Data X Shape %s, y Shape %s\" % (X_test.shape, y_test.shape))\n",
    "model=LinearRegression()\n",
    "model.fit(X_train, np.array(y_train).ravel())\n",
    "y_pred = model.predict(X_test)\n",
    "print(\"MSE:\", metrics.mean_squared_error(y_test, y_pred))\n",
    "print(\"RMSE\", np.sqrt(metrics.mean_squared_error(y_test, y_pred)))\n",
    "print(\"MAE\", metrics.mean_absolute_error (y_test, y_pred))\n",
    "# scatter 画点\n",
    "plt.scatter(y_test, y_pred)\n",
    "# plot 画线\n",
    "plt.plot([y_test.min(), y_test.max()], [y_test.min(), y_test.max()], 'k--', lw=4)\n",
    "plt.xlabel(\"Measured\")\n",
    "plt.ylabel(\"Predicted\")\n",
    "plt.show()\n",
    "joblib.dump(model, '../model/LR_Y3.model')"
   ]
  },
  {
   "cell_type": "code",
   "execution_count": 18,
   "metadata": {},
   "outputs": [
    {
     "name": "stdout",
     "output_type": "stream",
     "text": [
      "(941309, 305)\n",
      "Train Data X Shape (753047, 305), y Shape (753047, 1)\n",
      "Test Data X Shape (188262, 305), y Shape (188262, 1)\n",
      "MSE: 0.048262845297253824\n",
      "RMSE 0.21968806362033833\n",
      "MAE 0.14603514841152046\n"
     ]
    },
    {
     "data": {
      "image/png": "[encoded data removed]",
      "text/plain": [
       "<Figure size 432x288 with 1 Axes>"
      ]
     },
     "metadata": {
      "needs_background": "light"
     },
     "output_type": "display_data"
    },
    {
     "data": {
      "text/plain": [
       "['../model/MLP_Y3.model']"
      ]
     },
     "execution_count": 18,
     "metadata": {},
     "output_type": "execute_result"
    }
   ],
   "source": [
    "X=np.concatenate((PULocationID,hour_of_day,day_of_week,month,scaled_data),axis=1)\n",
    "print(X.shape)\n",
    "X_train, X_test, y_train, y_test = train_test_split(X, y3, random_state=1,test_size=0.2)\n",
    "print(\"Train Data X Shape %s, y Shape %s\" % (X_train.shape, y_train.shape))\n",
    "print(\"Test Data X Shape %s, y Shape %s\" % (X_test.shape, y_test.shape))\n",
    "model=MLPRegressor()\n",
    "model.fit(X_train, np.array(y_train).ravel())\n",
    "y_pred = model.predict(X_test)\n",
    "print(\"MSE:\", metrics.mean_squared_error(y_test, y_pred))\n",
    "print(\"RMSE\", np.sqrt(metrics.mean_squared_error(y_test, y_pred)))\n",
    "print(\"MAE\", metrics.mean_absolute_error (y_test, y_pred))\n",
    "# scatter 画点\n",
    "plt.scatter(y_test, y_pred)\n",
    "# plot 画线\n",
    "plt.plot([y_test.min(), y_test.max()], [y_test.min(), y_test.max()], 'k--', lw=4)\n",
    "plt.xlabel(\"Measured\")\n",
    "plt.ylabel(\"Predicted\")\n",
    "plt.show()\n",
    "joblib.dump(model, '../model/MLP_Y3.model')"
   ]
  },
  {
   "cell_type": "code",
   "execution_count": null,
   "metadata": {},
   "outputs": [],
   "source": []
  }
 ],
 "metadata": {
  "kernelspec": {
   "display_name": "Python 3 (ipykernel)",
   "language": "python",
   "name": "python3"
  },
  "language_info": {
   "codemirror_mode": {
    "name": "ipython",
    "version": 3
   },
   "file_extension": ".py",
   "mimetype": "text/x-python",
   "name": "python",
   "nbconvert_exporter": "python",
   "pygments_lexer": "ipython3",
   "version": "3.8.13"
  },
  "vscode": {
   "interpreter": {
    "hash": "5d5973b1486473c70a03460f19672b5b58cc12be351afb0897abf88c40e4e5f3"
   }
  }
 },
 "nbformat": 4,
 "nbformat_minor": 2
}
