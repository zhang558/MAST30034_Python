{
 "cells": [
  {
   "cell_type": "code",
   "execution_count": 42,
   "metadata": {},
   "outputs": [],
   "source": [
    "# Download data\n",
    "import os\n",
    "from urllib.request import urlretrieve\n",
    "\n",
    "\n",
    "output_relative_dir = '../data/'\n",
    "if not os.path.exists(output_relative_dir):\n",
    "    os.makedirs(output_relative_dir)\n",
    "for target_dir in ('processed_data', 'tlc_data'): \n",
    "    if not os.path.exists(output_relative_dir + target_dir):\n",
    "        os.makedirs(output_relative_dir + target_dir)"
   ]
  },
  {
   "cell_type": "code",
   "execution_count": 43,
   "metadata": {},
   "outputs": [],
   "source": [
    "URL_TEMPLATE_YELLOW = \"https://d37ci6vzurychx.cloudfront.net/trip-data/yellow_tripdata_\"#year-month.parquet\n",
    "URL_TEMPLATE_FHVHV= \"https://d37ci6vzurychx.cloudfront.net/trip-data/fhvhv_tripdata_\"#year-month.parquet\n",
    "\n",
    "tlc_output_dir = output_relative_dir + 'tlc_data'"
   ]
  },
  {
   "cell_type": "code",
   "execution_count": 48,
   "metadata": {},
   "outputs": [],
   "source": [
    "def download(year,MONTHS,URL_TEMPLATE):\n",
    "    vehichle_type=URL_TEMPLATE.split(\"/\")[-1].split(\"_\")[0]\n",
    "    for month in MONTHS:\n",
    "        month = str(month).zfill(2) \n",
    "        print(f\"Begin month {vehichle_type}: {month}, year {year}\")\n",
    "\n",
    "        # generate url\n",
    "        url = f'{URL_TEMPLATE}{year}-{month}.parquet'\n",
    "        # generate output location and filename\n",
    "        output_dir = f\"{tlc_output_dir}/{vehichle_type}-{year}-{month}.parquet\"\n",
    "        # download\n",
    "        urlretrieve(url, output_dir) \n",
    "\n",
    "        print(f\"Completed {vehichle_type}: month {month}, year {year}\")"
   ]
  },
  {
   "cell_type": "code",
   "execution_count": 52,
   "metadata": {},
   "outputs": [
    {
     "name": "stdout",
     "output_type": "stream",
     "text": [
      "Begin month fhvhv: 07, year 2021\n",
      "Completed fhvhv: month 07, year 2021\n",
      "Begin month fhvhv: 08, year 2021\n",
      "Completed fhvhv: month 08, year 2021\n",
      "Begin month fhvhv: 09, year 2021\n",
      "Completed fhvhv: month 09, year 2021\n"
     ]
    }
   ],
   "source": [
    "URL_TEMPLATES=[URL_TEMPLATE_YELLOW,URL_TEMPLATE_FHVHV]\n",
    "for  URL_TEMPLATE in URL_TEMPLATES:\n",
    "    download(\"2021\",range(1, 13),URL_TEMPLATE)\n",
    "    download(\"2022\",range(1, 5),URL_TEMPLATE)"
   ]
  }
 ],
 "metadata": {
  "kernelspec": {
   "display_name": "Python 3 (ipykernel)",
   "language": "python",
   "name": "python3"
  },
  "language_info": {
   "codemirror_mode": {
    "name": "ipython",
    "version": 3
   },
   "file_extension": ".py",
   "mimetype": "text/x-python",
   "name": "python",
   "nbconvert_exporter": "python",
   "pygments_lexer": "ipython3",
   "version": "3.8.13"
  },
  "vscode": {
   "interpreter": {
    "hash": "5d5973b1486473c70a03460f19672b5b58cc12be351afb0897abf88c40e4e5f3"
   }
  }
 },
 "nbformat": 4,
 "nbformat_minor": 2
}
